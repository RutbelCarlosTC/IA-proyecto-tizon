{
 "cells": [
  {
   "cell_type": "markdown",
   "metadata": {},
   "source": [
    "# Clasificacion de enfermedades de la papa usando SVM"
   ]
  },
  {
   "cell_type": "code",
   "execution_count": 28,
   "metadata": {},
   "outputs": [],
   "source": [
    "import pandas as pd\n",
    "from sklearn.model_selection import train_test_split\n",
    "from sklearn.svm import SVC\n",
    "from sklearn.preprocessing import LabelEncoder\n",
    "from sklearn.metrics import accuracy_score, classification_report, confusion_matrix\n",
    "import cv2\n",
    "import numpy as np\n",
    "import mahotas as mt\n",
    "import joblib"
   ]
  },
  {
   "cell_type": "markdown",
   "metadata": {},
   "source": [
    "### Cargando datos y separando en conjunto de prueba y entrenamiento"
   ]
  },
  {
   "cell_type": "code",
   "execution_count": 29,
   "metadata": {},
   "outputs": [
    {
     "data": {
      "text/html": [
       "<div>\n",
       "<style scoped>\n",
       "    .dataframe tbody tr th:only-of-type {\n",
       "        vertical-align: middle;\n",
       "    }\n",
       "\n",
       "    .dataframe tbody tr th {\n",
       "        vertical-align: top;\n",
       "    }\n",
       "\n",
       "    .dataframe thead th {\n",
       "        text-align: right;\n",
       "    }\n",
       "</style>\n",
       "<table border=\"1\" class=\"dataframe\">\n",
       "  <thead>\n",
       "    <tr style=\"text-align: right;\">\n",
       "      <th></th>\n",
       "      <th>mean_r</th>\n",
       "      <th>mean_g</th>\n",
       "      <th>mean_b</th>\n",
       "      <th>stddev_r</th>\n",
       "      <th>stddev_g</th>\n",
       "      <th>stddev_b</th>\n",
       "      <th>contrast</th>\n",
       "      <th>correlation</th>\n",
       "      <th>inverse_difference_moments</th>\n",
       "      <th>entropy</th>\n",
       "    </tr>\n",
       "  </thead>\n",
       "  <tbody>\n",
       "    <tr>\n",
       "      <th>1505</th>\n",
       "      <td>114.780045</td>\n",
       "      <td>124.308746</td>\n",
       "      <td>119.601517</td>\n",
       "      <td>41.411955</td>\n",
       "      <td>26.781844</td>\n",
       "      <td>45.961895</td>\n",
       "      <td>133.311504</td>\n",
       "      <td>0.937444</td>\n",
       "      <td>0.193157</td>\n",
       "      <td>11.833944</td>\n",
       "    </tr>\n",
       "    <tr>\n",
       "      <th>1660</th>\n",
       "      <td>130.882782</td>\n",
       "      <td>119.905945</td>\n",
       "      <td>102.533722</td>\n",
       "      <td>52.189429</td>\n",
       "      <td>50.230424</td>\n",
       "      <td>55.815518</td>\n",
       "      <td>492.433894</td>\n",
       "      <td>0.903812</td>\n",
       "      <td>0.116390</td>\n",
       "      <td>13.215109</td>\n",
       "    </tr>\n",
       "    <tr>\n",
       "      <th>889</th>\n",
       "      <td>137.470535</td>\n",
       "      <td>146.036575</td>\n",
       "      <td>124.397125</td>\n",
       "      <td>50.521080</td>\n",
       "      <td>51.683751</td>\n",
       "      <td>58.501449</td>\n",
       "      <td>910.306482</td>\n",
       "      <td>0.824933</td>\n",
       "      <td>0.113457</td>\n",
       "      <td>13.385556</td>\n",
       "    </tr>\n",
       "    <tr>\n",
       "      <th>306</th>\n",
       "      <td>159.429794</td>\n",
       "      <td>154.917679</td>\n",
       "      <td>112.155243</td>\n",
       "      <td>56.134773</td>\n",
       "      <td>55.676391</td>\n",
       "      <td>54.811330</td>\n",
       "      <td>774.867221</td>\n",
       "      <td>0.863730</td>\n",
       "      <td>0.093001</td>\n",
       "      <td>13.555973</td>\n",
       "    </tr>\n",
       "    <tr>\n",
       "      <th>1771</th>\n",
       "      <td>112.306671</td>\n",
       "      <td>113.660828</td>\n",
       "      <td>103.681564</td>\n",
       "      <td>42.281482</td>\n",
       "      <td>35.457587</td>\n",
       "      <td>46.051247</td>\n",
       "      <td>417.024091</td>\n",
       "      <td>0.854655</td>\n",
       "      <td>0.138416</td>\n",
       "      <td>12.833868</td>\n",
       "    </tr>\n",
       "    <tr>\n",
       "      <th>...</th>\n",
       "      <td>...</td>\n",
       "      <td>...</td>\n",
       "      <td>...</td>\n",
       "      <td>...</td>\n",
       "      <td>...</td>\n",
       "      <td>...</td>\n",
       "      <td>...</td>\n",
       "      <td>...</td>\n",
       "      <td>...</td>\n",
       "      <td>...</td>\n",
       "    </tr>\n",
       "    <tr>\n",
       "      <th>567</th>\n",
       "      <td>154.416977</td>\n",
       "      <td>153.896286</td>\n",
       "      <td>121.701324</td>\n",
       "      <td>45.409239</td>\n",
       "      <td>47.365123</td>\n",
       "      <td>60.768838</td>\n",
       "      <td>582.295082</td>\n",
       "      <td>0.864447</td>\n",
       "      <td>0.119189</td>\n",
       "      <td>12.923897</td>\n",
       "    </tr>\n",
       "    <tr>\n",
       "      <th>1679</th>\n",
       "      <td>102.147690</td>\n",
       "      <td>111.224304</td>\n",
       "      <td>90.500488</td>\n",
       "      <td>39.671461</td>\n",
       "      <td>32.736098</td>\n",
       "      <td>45.096190</td>\n",
       "      <td>220.949214</td>\n",
       "      <td>0.907770</td>\n",
       "      <td>0.143721</td>\n",
       "      <td>12.459592</td>\n",
       "    </tr>\n",
       "    <tr>\n",
       "      <th>849</th>\n",
       "      <td>113.003311</td>\n",
       "      <td>126.351593</td>\n",
       "      <td>114.660187</td>\n",
       "      <td>36.799677</td>\n",
       "      <td>30.700575</td>\n",
       "      <td>43.729775</td>\n",
       "      <td>287.986659</td>\n",
       "      <td>0.866694</td>\n",
       "      <td>0.113727</td>\n",
       "      <td>12.677651</td>\n",
       "    </tr>\n",
       "    <tr>\n",
       "      <th>963</th>\n",
       "      <td>138.364944</td>\n",
       "      <td>140.631470</td>\n",
       "      <td>117.472321</td>\n",
       "      <td>42.597958</td>\n",
       "      <td>38.277603</td>\n",
       "      <td>50.877392</td>\n",
       "      <td>705.869972</td>\n",
       "      <td>0.782916</td>\n",
       "      <td>0.089305</td>\n",
       "      <td>13.406424</td>\n",
       "    </tr>\n",
       "    <tr>\n",
       "      <th>464</th>\n",
       "      <td>130.160858</td>\n",
       "      <td>137.255753</td>\n",
       "      <td>109.332870</td>\n",
       "      <td>48.548843</td>\n",
       "      <td>49.808608</td>\n",
       "      <td>58.526205</td>\n",
       "      <td>953.619426</td>\n",
       "      <td>0.802837</td>\n",
       "      <td>0.100479</td>\n",
       "      <td>13.621305</td>\n",
       "    </tr>\n",
       "  </tbody>\n",
       "</table>\n",
       "<p>431 rows × 10 columns</p>\n",
       "</div>"
      ],
      "text/plain": [
       "          mean_r      mean_g      mean_b   stddev_r   stddev_g   stddev_b  \\\n",
       "1505  114.780045  124.308746  119.601517  41.411955  26.781844  45.961895   \n",
       "1660  130.882782  119.905945  102.533722  52.189429  50.230424  55.815518   \n",
       "889   137.470535  146.036575  124.397125  50.521080  51.683751  58.501449   \n",
       "306   159.429794  154.917679  112.155243  56.134773  55.676391  54.811330   \n",
       "1771  112.306671  113.660828  103.681564  42.281482  35.457587  46.051247   \n",
       "...          ...         ...         ...        ...        ...        ...   \n",
       "567   154.416977  153.896286  121.701324  45.409239  47.365123  60.768838   \n",
       "1679  102.147690  111.224304   90.500488  39.671461  32.736098  45.096190   \n",
       "849   113.003311  126.351593  114.660187  36.799677  30.700575  43.729775   \n",
       "963   138.364944  140.631470  117.472321  42.597958  38.277603  50.877392   \n",
       "464   130.160858  137.255753  109.332870  48.548843  49.808608  58.526205   \n",
       "\n",
       "        contrast  correlation  inverse_difference_moments    entropy  \n",
       "1505  133.311504     0.937444                    0.193157  11.833944  \n",
       "1660  492.433894     0.903812                    0.116390  13.215109  \n",
       "889   910.306482     0.824933                    0.113457  13.385556  \n",
       "306   774.867221     0.863730                    0.093001  13.555973  \n",
       "1771  417.024091     0.854655                    0.138416  12.833868  \n",
       "...          ...          ...                         ...        ...  \n",
       "567   582.295082     0.864447                    0.119189  12.923897  \n",
       "1679  220.949214     0.907770                    0.143721  12.459592  \n",
       "849   287.986659     0.866694                    0.113727  12.677651  \n",
       "963   705.869972     0.782916                    0.089305  13.406424  \n",
       "464   953.619426     0.802837                    0.100479  13.621305  \n",
       "\n",
       "[431 rows x 10 columns]"
      ]
     },
     "execution_count": 29,
     "metadata": {},
     "output_type": "execute_result"
    }
   ],
   "source": [
    "# Cargar los datos desde el archivo CSV\n",
    "data = pd.read_csv('dataset.csv')\n",
    "\n",
    "# Dividir los datos en características (X) y etiquetas (y)\n",
    "X = data[['mean_r', 'mean_g', 'mean_b', 'stddev_r', 'stddev_g', 'stddev_b', 'contrast', 'correlation', 'inverse_difference_moments', 'entropy']]\n",
    "y = data['type']\n",
    "\n",
    "# Codificar las etiquetas\n",
    "label_encoder = LabelEncoder()\n",
    "y = label_encoder.fit_transform(y)\n",
    "\n",
    "# Dividir los datos en conjuntos de entrenamiento y prueba\n",
    "X_train, X_test, y_train, y_test = train_test_split(X, y, test_size=0.2, random_state=42)\n",
    "X_test"
   ]
  },
  {
   "cell_type": "markdown",
   "metadata": {},
   "source": [
    "### Creando modelo"
   ]
  },
  {
   "cell_type": "code",
   "execution_count": 30,
   "metadata": {},
   "outputs": [],
   "source": [
    "# Crear un modelo SVM\n",
    "svm_model = SVC(kernel='linear', C=1.0, random_state=42)\n",
    "# Entrenar el modelo en el conjunto de entrenamiento\n",
    "svm_model.fit(X_train, y_train)\n",
    "\n",
    "# Realizar predicciones en el conjunto de prueba\n",
    "y_pred = svm_model.predict(X_test)"
   ]
  },
  {
   "cell_type": "markdown",
   "metadata": {},
   "source": [
    "### Evaluando modelo"
   ]
  },
  {
   "cell_type": "code",
   "execution_count": 31,
   "metadata": {},
   "outputs": [
    {
     "name": "stdout",
     "output_type": "stream",
     "text": [
      "Accuracy: 0.9698375870069605\n",
      "Classification Report:\n",
      "                        precision    recall  f1-score   support\n",
      "\n",
      "Potato___Early_blight       0.97      0.97      0.97       196\n",
      " Potato___Late_blight       0.97      0.97      0.97       209\n",
      "     Potato___healthy       0.96      0.92      0.94        26\n",
      "\n",
      "             accuracy                           0.97       431\n",
      "            macro avg       0.97      0.96      0.96       431\n",
      "         weighted avg       0.97      0.97      0.97       431\n",
      "\n",
      "Confusion Matrix:\n",
      " [[191   5   0]\n",
      " [  5 203   1]\n",
      " [  0   2  24]]\n"
     ]
    },
    {
     "data": {
      "text/plain": [
       "Text(0.5, 1.0, 'Matriz de Confusión')"
      ]
     },
     "execution_count": 31,
     "metadata": {},
     "output_type": "execute_result"
    },
    {
     "data": {
      "image/png": "[encoded data removed]",
      "text/plain": [
       "<Figure size 800x600 with 1 Axes>"
      ]
     },
     "metadata": {},
     "output_type": "display_data"
    }
   ],
   "source": [
    "import matplotlib.pyplot as plt\n",
    "import seaborn as sns\n",
    "from sklearn.metrics import confusion_matrix\n",
    "\n",
    "accuracy = accuracy_score(y_test, y_pred)\n",
    "report = classification_report(y_test, y_pred, target_names=label_encoder.classes_)\n",
    "confusion = confusion_matrix(y_test, y_pred)\n",
    "\n",
    "print(\"Accuracy:\", accuracy)\n",
    "print(\"Classification Report:\\n\", report)\n",
    "print(\"Confusion Matrix:\\n\", confusion)\n",
    "\n",
    "class_names = [\"Potato___Early_blight\", \"Potato___Late_blight\", \"Potato___healthy\"]\n",
    "plt.figure(figsize=(8, 6))\n",
    "sns.set(font_scale=1.2)  # Establece el tamaño de fuente de las etiquetas\n",
    "\n",
    "# Usa Seaborn para crear un mapa de calor de la matriz de confusión\n",
    "sns.heatmap(confusion, annot=True, fmt=\"d\", cmap=\"Blues\", cbar=False,\n",
    "            xticklabels=class_names, yticklabels=class_names)\n",
    "\n",
    "# Etiqueta los ejes y agrega un título\n",
    "plt.xlabel('Etiqueta Predicha')\n",
    "plt.ylabel('Etiqueta Verdadera')\n",
    "plt.title('Matriz de Confusión')"
   ]
  },
  {
   "cell_type": "code",
   "execution_count": 32,
   "metadata": {},
   "outputs": [
    {
     "data": {
      "text/plain": [
       "['modelo_svm.pkl']"
      ]
     },
     "execution_count": 32,
     "metadata": {},
     "output_type": "execute_result"
    }
   ],
   "source": [
    "## Guardando modelo:\n",
    "joblib.dump(svm_model, 'modelo_svm.pkl')"
   ]
  },
  {
   "cell_type": "markdown",
   "metadata": {},
   "source": [
    "### Realizando predicciones"
   ]
  },
  {
   "cell_type": "code",
   "execution_count": 66,
   "metadata": {},
   "outputs": [
    {
     "name": "stdout",
     "output_type": "stream",
     "text": [
      "COMPROBANDO CON UNA IMAGEN NUEVA\n",
      "[0]\n",
      "Etiqueta predicha: ['Potato___Early_blight']\n"
     ]
    }
   ],
   "source": [
    "print(\"COMPROBANDO CON UNA IMAGEN NUEVA\")\n",
    "#funcion para extraer caracteristicas de color y textura de la imaegen de entrada\n",
    "def extract_features(main_img):\n",
    "    #main_img = cv2.imread(imgpath)    \n",
    "    #preprocesamiento\n",
    "    img = cv2.cvtColor(main_img, cv2.COLOR_BGR2RGB)\n",
    "    gs = cv2.cvtColor(img,cv2.COLOR_RGB2GRAY)\n",
    "    blur = cv2.GaussianBlur(gs, (25,25),0)\n",
    "    ret_otsu,im_bw_otsu = cv2.threshold(blur,0,255,cv2.THRESH_BINARY_INV+cv2.THRESH_OTSU)\n",
    "    kernel = np.ones((50,50),np.uint8)\n",
    "    closing = cv2.morphologyEx(im_bw_otsu, cv2.MORPH_CLOSE, kernel)\n",
    "    \n",
    "    #Caractersticas de color\n",
    "    red_channel = img[:,:,0]\n",
    "    green_channel = img[:,:,1]\n",
    "    blue_channel = img[:,:,2]\n",
    "    blue_channel[blue_channel == 255] = 0\n",
    "    green_channel[green_channel == 255] = 0\n",
    "    red_channel[red_channel == 255] = 0\n",
    "    \n",
    "    red_mean = np.mean(red_channel)\n",
    "    green_mean = np.mean(green_channel)\n",
    "    blue_mean = np.mean(blue_channel)\n",
    "    \n",
    "    red_std = np.std(red_channel)\n",
    "    green_std = np.std(green_channel)\n",
    "    blue_std = np.std(blue_channel)\n",
    "    \n",
    "    #Caracteristicas de Textura\n",
    "    textures = mt.features.haralick(gs)\n",
    "    ht_mean = textures.mean(axis=0)\n",
    "    contrast = ht_mean[1]\n",
    "    correlation = ht_mean[2]\n",
    "    inverse_diff_moments = ht_mean[4]\n",
    "    entropy = ht_mean[8]\n",
    "      \n",
    "    vector = [red_mean,green_mean,blue_mean,red_std,green_std,blue_std,\\\n",
    "                contrast,correlation,inverse_diff_moments,entropy\n",
    "                ]\n",
    "    return vector\n",
    "\n",
    "img_test = \"../test_imagenes/late_8e.jpg\"\n",
    "main_img = cv2.imread(img_test) \n",
    "resized_img = cv2.resize(main_img, (255,255))\n",
    "\n",
    "# Define los nombres de características para tus datos de entrada\n",
    "feature_names = ['mean_r', 'mean_g', 'mean_b', 'stddev_r', 'stddev_g', 'stddev_b', 'contrast', 'correlation', 'inverse_difference_moments', 'entropy']\n",
    "\n",
    "# Asigna los nombres de características a tus datos de entrada\n",
    "feat = extract_features(main_img)\n",
    "feat_test = pd.DataFrame([feat], columns=feature_names)\n",
    "\n",
    "pred = svm_model.predict(feat_test)\n",
    "print(pred)\n",
    "etiqueta_predicha = label_encoder.inverse_transform(pred)\n",
    "print(\"Etiqueta predicha:\", etiqueta_predicha)"
   ]
  },
  {
   "cell_type": "code",
   "execution_count": null,
   "metadata": {},
   "outputs": [],
   "source": []
  },
  {
   "cell_type": "code",
   "execution_count": null,
   "metadata": {},
   "outputs": [],
   "source": []
  },
  {
   "cell_type": "code",
   "execution_count": null,
   "metadata": {},
   "outputs": [],
   "source": []
  }
 ],
 "metadata": {
  "kernelspec": {
   "display_name": "Python 3",
   "language": "python",
   "name": "python3"
  },
  "language_info": {
   "codemirror_mode": {
    "name": "ipython",
    "version": 3
   },
   "file_extension": ".py",
   "mimetype": "text/x-python",
   "name": "python",
   "nbconvert_exporter": "python",
   "pygments_lexer": "ipython3",
   "version": "3.10.12"
  }
 },
 "nbformat": 4,
 "nbformat_minor": 2
}
